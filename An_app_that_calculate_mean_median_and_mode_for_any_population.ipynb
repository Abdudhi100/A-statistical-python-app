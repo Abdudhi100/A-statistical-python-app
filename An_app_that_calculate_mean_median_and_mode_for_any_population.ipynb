{
 "cells": [
  {
   "cell_type": "code",
   "execution_count": null,
   "id": "d47e31ce-81c7-4bd2-b84d-ba2f882c2b88",
   "metadata": {},
   "outputs": [],
   "source": [
    "import statistics\n",
    "\n",
    "\n",
    "mylist = []\n",
    "items = 0\n",
    "added_item = 0\n",
    "\n",
    "while added_item != -1:\n",
    "    added_item = int(input(\"Input your integers\"))\n",
    "    if added_item != -1:\n",
    "        mylist.append(added_item)\n",
    "        items += added_item\n",
    "\n",
    "if mylist:\n",
    "    mean = statistics.mean(mylist)\n",
    "    median = statistics.median(mylist)\n",
    "    try:\n",
    "        mode = statistics.mode(mylist)\n",
    "    except statistics.StatisticsError:\n",
    "        mode = \"No unique mode\"\n",
    "        \n",
    "    print(f'The mean of the item is: {mean:.2f}')\n",
    "    print(f'The median of the items is: {median:.2f}')\n",
    "    print(f'The mode of the items is: {mode}')\n",
    "else:\n",
    "    print(\"No data was entered\")"
   ]
  }
 ],
 "metadata": {
  "kernelspec": {
   "display_name": "Python 3 (ipykernel)",
   "language": "python",
   "name": "python3"
  },
  "language_info": {
   "codemirror_mode": {
    "name": "ipython",
    "version": 3
   },
   "file_extension": ".py",
   "mimetype": "text/x-python",
   "name": "python",
   "nbconvert_exporter": "python",
   "pygments_lexer": "ipython3",
   "version": "3.11.4"
  }
 },
 "nbformat": 4,
 "nbformat_minor": 5
}
